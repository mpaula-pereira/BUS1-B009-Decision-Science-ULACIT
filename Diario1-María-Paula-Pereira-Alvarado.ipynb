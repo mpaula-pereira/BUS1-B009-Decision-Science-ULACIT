{
  "nbformat": 4,
  "nbformat_minor": 0,
  "metadata": {
    "colab": {
      "name": "Diario1-Paula-Pereira.ipynb",
      "provenance": [],
      "collapsed_sections": []
    },
    "kernelspec": {
      "name": "python3",
      "display_name": "Python 3"
    },
    "language_info": {
      "name": "python"
    }
  },
  "cells": [
    {
      "cell_type": "code",
      "execution_count": null,
      "metadata": {
        "id": "kVmHB9wMgLQY"
      },
      "outputs": [],
      "source": [
        "print(\"Hola Mundo!\")"
      ]
    }
  ]
}